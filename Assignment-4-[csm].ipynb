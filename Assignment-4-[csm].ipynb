{
 "cells": [
  {
   "cell_type": "markdown",
   "metadata": {},
   "source": [
    "Imports:"
   ]
  },
  {
   "cell_type": "code",
   "execution_count": 57,
   "metadata": {},
   "outputs": [],
   "source": [
    "import matplotlib.pyplot as plt\n",
    "import pandas as pd\n",
    "import numpy as np\n",
    "import json\n",
    "import lda\n",
    "import lda.datasets\n",
    "from sklearn.ensemble import RandomForestClassifier\n",
    "from sklearn.datasets import make_classification"
   ]
  },
  {
   "cell_type": "code",
   "execution_count": 122,
   "metadata": {},
   "outputs": [],
   "source": [
    "from sklearn.model_selection import train_test_split\n",
    "from sklearn.metrics import *\n",
    "import sklearn.metrics\n",
    "from sklearn.model_selection import cross_validate\n",
    "from sklearn.model_selection import KFold"
   ]
  },
  {
   "cell_type": "markdown",
   "metadata": {},
   "source": [
    "# Part 1"
   ]
  },
  {
   "cell_type": "code",
   "execution_count": null,
   "metadata": {},
   "outputs": [],
   "source": [
    "inst_1 = pd.read_csv('instagram_1.csv')"
   ]
  },
  {
   "cell_type": "code",
   "execution_count": 59,
   "metadata": {},
   "outputs": [
    {
     "data": {
      "text/html": [
       "<div>\n",
       "<style scoped>\n",
       "    .dataframe tbody tr th:only-of-type {\n",
       "        vertical-align: middle;\n",
       "    }\n",
       "\n",
       "    .dataframe tbody tr th {\n",
       "        vertical-align: top;\n",
       "    }\n",
       "\n",
       "    .dataframe thead th {\n",
       "        text-align: right;\n",
       "    }\n",
       "</style>\n",
       "<table border=\"1\" class=\"dataframe\">\n",
       "  <thead>\n",
       "    <tr style=\"text-align: right;\">\n",
       "      <th></th>\n",
       "      <th>hashtags</th>\n",
       "      <th>separated</th>\n",
       "    </tr>\n",
       "  </thead>\n",
       "  <tbody>\n",
       "    <tr>\n",
       "      <th>0</th>\n",
       "      <td>vibetribe openair spintwist fullon fiesta edm...</td>\n",
       "      <td>[vibetribe, openair, spintwist, fullon, fiesta...</td>\n",
       "    </tr>\n",
       "    <tr>\n",
       "      <th>1</th>\n",
       "      <td>love beauty spring iphonesia igdaily igers in...</td>\n",
       "      <td>[love, beauty, spring, iphonesia, igdaily, ige...</td>\n",
       "    </tr>\n",
       "    <tr>\n",
       "      <th>2</th>\n",
       "      <td>beautiful pencil sketch korea art seoul amate...</td>\n",
       "      <td>[beautiful, pencil, sketch, korea, art, seoul,...</td>\n",
       "    </tr>\n",
       "    <tr>\n",
       "      <th>3</th>\n",
       "      <td>europe omd tagsforlikers olympus switzerland ...</td>\n",
       "      <td>[europe, omd, tagsforlikers, olympus, switzerl...</td>\n",
       "    </tr>\n",
       "    <tr>\n",
       "      <th>4</th>\n",
       "      <td>eyes fashion victims blackandwhite ciao selfi...</td>\n",
       "      <td>[eyes, fashion, victims, blackandwhite, ciao, ...</td>\n",
       "    </tr>\n",
       "  </tbody>\n",
       "</table>\n",
       "</div>"
      ],
      "text/plain": [
       "                                            hashtags  \\\n",
       "0   vibetribe openair spintwist fullon fiesta edm...   \n",
       "1   love beauty spring iphonesia igdaily igers in...   \n",
       "2   beautiful pencil sketch korea art seoul amate...   \n",
       "3   europe omd tagsforlikers olympus switzerland ...   \n",
       "4   eyes fashion victims blackandwhite ciao selfi...   \n",
       "\n",
       "                                           separated  \n",
       "0  [vibetribe, openair, spintwist, fullon, fiesta...  \n",
       "1  [love, beauty, spring, iphonesia, igdaily, ige...  \n",
       "2  [beautiful, pencil, sketch, korea, art, seoul,...  \n",
       "3  [europe, omd, tagsforlikers, olympus, switzerl...  \n",
       "4  [eyes, fashion, victims, blackandwhite, ciao, ...  "
      ]
     },
     "execution_count": 59,
     "metadata": {},
     "output_type": "execute_result"
    }
   ],
   "source": [
    "inst_1.head()"
   ]
  },
  {
   "cell_type": "markdown",
   "metadata": {},
   "source": [
    "Obtaining the document-term matrix for LDA"
   ]
  },
  {
   "cell_type": "code",
   "execution_count": null,
   "metadata": {},
   "outputs": [],
   "source": [
    "inst_1['separated'] = inst_1.hashtags.str.strip().str.split(' ')\n",
    "#doc.lines.str.strip().str.split('[\\W_]+')"
   ]
  },
  {
   "cell_type": "code",
   "execution_count": null,
   "metadata": {},
   "outputs": [],
   "source": [
    "words = list(set(inst_1.separated.sum()))"
   ]
  },
  {
   "cell_type": "code",
   "execution_count": null,
   "metadata": {},
   "outputs": [],
   "source": [
    "# Document-term matrix variable\n",
    "inst_doc_term = np.zeros([len(inst_1), len(words)])"
   ]
  },
  {
   "cell_type": "code",
   "execution_count": 60,
   "metadata": {},
   "outputs": [
    {
     "data": {
      "text/plain": [
       "(5000, 29913)"
      ]
     },
     "execution_count": 60,
     "metadata": {},
     "output_type": "execute_result"
    }
   ],
   "source": [
    "inst_doc_term.shape"
   ]
  },
  {
   "cell_type": "code",
   "execution_count": 61,
   "metadata": {},
   "outputs": [
    {
     "data": {
      "text/plain": [
       "['vibetribe', 'openair', 'spintwist', 'fullon', 'fiesta']"
      ]
     },
     "execution_count": 61,
     "metadata": {},
     "output_type": "execute_result"
    }
   ],
   "source": [
    "inst_1.separated.tolist()[0][:5]"
   ]
  },
  {
   "cell_type": "code",
   "execution_count": null,
   "metadata": {},
   "outputs": [],
   "source": [
    "# If a hashtag ('w') is found in a tweet,\n",
    "# the correcponding cell is set to 1\n",
    "# (since the hashtag lists don't have repetitions,\n",
    "#  there's no need to count occurences)\n",
    "for j, w in enumerate(words):\n",
    "    for i, row in enumerate(inst_1.separated.tolist()):\n",
    "        if w in row:\n",
    "            inst_doc_term[i][j] = 1"
   ]
  },
  {
   "cell_type": "markdown",
   "metadata": {},
   "source": [
    "#### LDA"
   ]
  },
  {
   "cell_type": "markdown",
   "metadata": {},
   "source": [
    "K = 15"
   ]
  },
  {
   "cell_type": "code",
   "execution_count": null,
   "metadata": {},
   "outputs": [],
   "source": [
    "X = inst_doc_term.astype('int64')\n",
    "vocab = words\n",
    "titles = np.array(inst_1.index)\n",
    "\n",
    "model = lda.LDA(n_topics=15, n_iter=1500, random_state=1)\n",
    "model.fit(X)\n",
    "topic_word = model.topic_word_\n",
    "n_top_words = 10\n",
    "for i, topic_dist in enumerate(topic_word):\n",
    "    topic_words = np.array(vocab)[np.argsort(topic_dist)][:-(n_top_words+1):-1]\n",
    "    print('Topic {}: {}'.format(i+1, ' '.join(topic_words)))"
   ]
  },
  {
   "cell_type": "markdown",
   "metadata": {},
   "source": [
    "Topic 1: photooftheday beautiful architecture instagood switzerland travel tagsforlikes love holiday night\n",
    "Topic 2: instagood love photooftheday followme picoftheday follow amazing instadaily instalike beautiful\n",
    "Topic 3: love friends happy music party switzerland fun me swiss life\n",
    "Topic 4: picoftheday instagood instamood photooftheday instadaily igers instagramhub bestoftheday iphonesia igdaily\n",
    "Topic 5: visitswitzerland ig_switzerland switzerland wu_switzerland ig_europe myswitzerland super_switzerland inlovewithswitzerland ig_swiss vscocam\n",
    "Topic 6: travel switzerland europe swiss nature instatravel mountains wanderlust travelgram trip\n",
    "Topic 7: fashion swiss switzerland 스위스 style ootd instafashion zürich beauty makeup\n",
    "Topic 8: ig_eurasia allunique_pro ig_murcia ig_ikeda lebanon_hdr vivir_to2 ig_lebanon ig_su ig_serenity love_hdr_colour\n",
    "Topic 9: art switzerland سويسرا تصويري انترلاكن dubai travel artist سفر interlaken\n",
    "Topic 10: switzerland suisse schweiz igerssuisse swiss geneva svizzera ig_switzerland igersswitzerland blackandwhite\n",
    "Topic 11: snow switzerland winter mountains alps ski swiss schweiz suisse mountain\n",
    "Topic 12: fitness fit gym car sport workout lifestyle training motivation healthy\n",
    "Topic 13: switzerland nature lake sky beautiful landscape swiss clouds sun schweiz\n",
    "Topic 14: food foodporn instafood yummy delicious sweet switzerland instagood foodie dinner\n",
    "Topic 15: zurich switzerland luxury zürich züri gay swiss lifestyle watch instagay"
   ]
  },
  {
   "cell_type": "markdown",
   "metadata": {},
   "source": [
    "K = 20"
   ]
  },
  {
   "cell_type": "code",
   "execution_count": null,
   "metadata": {
    "scrolled": false
   },
   "outputs": [],
   "source": [
    "model = lda.LDA(n_topics=20, n_iter=1500, random_state=1)\n",
    "\n",
    "model.fit(X)\n",
    "topic_word = model.topic_word_\n",
    "n_top_words = 10\n",
    "for i, topic_dist in enumerate(topic_word):\n",
    "    topic_words = np.array(vocab)[np.argsort(topic_dist)][:-(n_top_words+1):-1]\n",
    "    print('Topic {}: {}'.format(i+1, ' '.join(topic_words)))"
   ]
  },
  {
   "cell_type": "markdown",
   "metadata": {},
   "source": [
    "Topic 1: سويسرا switzerland architecture تصويري انترلاكن design interlaken سفر dubai سياحة\n",
    "Topic 2: travel switzerland instatravel travelgram europe trip wanderlust instagood photooftheday vacation\n",
    "Topic 3: fashion style zurich beauty ootd switzerland model zürich instafashion love\n",
    "Topic 4: switzerland schweiz suisse zurich swiss zürich igerssuisse architecture svizzera blackandwhite\n",
    "Topic 5: switzerland snow mountains winter alps swiss nature mountain swissalps ski\n",
    "Topic 6: switzerland швейцария swiss schweiz suisse bern beer tattoo горы football\n",
    "Topic 7: love happy switzerland swiss friends life fun me family beautiful\n",
    "Topic 8: instagood picoftheday instamood photooftheday instadaily igers instagramhub bestoftheday iphonesia igdaily\n",
    "Topic 9: visitswitzerland ig_switzerland wu_switzerland ig_europe super_switzerland myswitzerland switzerland switzerland_vacations ig_swiss inlovewithswitzerland\n",
    "Topic 10: instagood love photooftheday followme follow picoftheday amazing instalike like4like me\n",
    "Topic 11: switzerland christmas luxury design love hotel art home xmas winter\n",
    "Topic 12: nature sky switzerland beautiful sun clouds lake sunset view landscape\n",
    "Topic 13: fitness fit gym sport workout healthy training motivation fitfam lifestyle\n",
    "Topic 14: party music friends love night switzerland zurich fun happy girls\n",
    "Topic 15: gopro italia la liebe farm monday fotoshooting event ig_italy thun\n",
    "Topic 16: geneva car switzerland cars luxury geneve carporn supercar lamborghini carswithoutlimits\n",
    "Topic 17: food foodporn instafood yummy delicious dinner foodie lunch sweet eat\n",
    "Topic 18: switzerland swiss schweiz svizzera ticino suisse lake lugano nature landscape\n",
    "Topic 19: vsco vscocam switzerland art photographer zurich germany vscogood canon istanbul\n",
    "Topic 20: switzerland suisse art swiss igerssuisse lausanne geneva montreux lacleman schweiz"
   ]
  },
  {
   "cell_type": "markdown",
   "metadata": {},
   "source": [
    "K = 25"
   ]
  },
  {
   "cell_type": "code",
   "execution_count": null,
   "metadata": {},
   "outputs": [],
   "source": [
    "model = lda.LDA(n_topics=25, n_iter=1500, random_state=1)\n",
    "\n",
    "model.fit(X)  # model.fit_transform(X) is also available\n",
    "topic_word = model.topic_word_  # model.components_ also works\n",
    "n_top_words = 10\n",
    "for i, topic_dist in enumerate(topic_word):\n",
    "    topic_words = np.array(vocab)[np.argsort(topic_dist)][:-(n_top_words+1):-1]\n",
    "    print('Topic {}: {}'.format(i+1, ' '.join(topic_words)))"
   ]
  },
  {
   "cell_type": "markdown",
   "metadata": {},
   "source": [
    "Topic 1: travel instatravel switzerland travelgram trip europe traveling wanderlust vacation travelling\n",
    "Topic 2: food foodporn سويسرا instafood yummy delicious foodie تصويري switzerland restaurant\n",
    "Topic 3: switzerland schweiz zürich zurich svizzera suisse ticino swiss lugano lake\n",
    "Topic 4: switzerland gopro beer 20likes tattoo 10likes luzern 30likes lucerne drone\n",
    "Topic 5: switzerland suisse schweiz swiss igerssuisse myswitzerland valais svizzera igersswitzerland switzerlandwonderland\n",
    "Topic 6: instagood switzerland picoftheday nature photooftheday amazing beautiful love sky instagram\n",
    "Topic 7: dog animal animals cute dogsofinstagram photooftheday instadog love pet instagood\n",
    "Topic 8: snow winter switzerland mountains ski alps swiss skiing mountain sun\n",
    "Topic 9: architecture design switzerland art city zurich street building urban style\n",
    "Topic 10: instagood picoftheday instamood photooftheday igers instadaily iphonesia instagramhub bestoftheday igdaily\n",
    "Topic 11: igerssuisse blackandwhite switzerland bw gf_swiss ig_switzerland igerszurich bnw schweiz wu_switzerland\n",
    "Topic 12: швейцария nature flower spring flowers switzerland swiss goodmorning red autumn\n",
    "Topic 13: visitswitzerland wu_switzerland ig_switzerland ig_europe super_switzerland ig_swiss switzerland_vacations inlovewithswitzerland loves_switzerland myswitzerland\n",
    "Topic 14: allunique_pro ig_eurasia ig_murcia lebanon_hdr vivir_to2 ig_ikeda ig_lebanon ig_su love_hdr_colour ig_serenity\n",
    "Topic 15: vsco vscocam zurich zürich zuerich vscogood züri running zrh basel\n",
    "Topic 16: sky sun nature clouds sunset beautiful blue photooftheday lake cloudporn\n",
    "Topic 17: music luxury party switzerland watch concert zurich love hiphop live\n",
    "Topic 18: switzerland swiss 스위스 interlaken travel grindelwald 여행 bern 유럽 여행스타그램\n",
    "Topic 19: love happy friends fun switzerland zurich me family smile life\n",
    "Topic 20: nature switzerland mountains landscape alps hiking mountain lake swiss schweiz\n",
    "Topic 21: car geneva switzerland luxury cars carporn supercar amazingcars247 lamborghini carswithoutlimits\n",
    "Topic 22: fashion fitness style fit gym lifestyle ootd motivation workout healthy\n",
    "Topic 23: instagood photooftheday followme follow love picoftheday like4like tagsforlikes me bestoftheday\n",
    "Topic 24: switzerland geneva suisse swiss montreux geneve lacleman lake lac lakegeneva\n",
    "Topic 25: art artist switzerland sport bike creative cycling drawing instagood schweiz"
   ]
  },
  {
   "cell_type": "markdown",
   "metadata": {},
   "source": [
    "### Found topics"
   ]
  },
  {
   "cell_type": "markdown",
   "metadata": {},
   "source": [
    "......"
   ]
  },
  {
   "cell_type": "markdown",
   "metadata": {},
   "source": [
    "# Part 2"
   ]
  },
  {
   "cell_type": "code",
   "execution_count": 153,
   "metadata": {},
   "outputs": [],
   "source": [
    "inst_2_file = open('instagram_2.json', 'r', encoding='utf8')"
   ]
  },
  {
   "cell_type": "code",
   "execution_count": 154,
   "metadata": {},
   "outputs": [],
   "source": [
    "labels_all = []\n",
    "tags_all = []\n",
    "imgfeatures_all = []\n",
    "\n",
    "for l in inst_2_file:\n",
    "    d = json.loads(l)\n",
    "    labels_all.append(d['label'])\n",
    "    tags_all.append(d['tags'])\n",
    "    imgfeatures_all.append(d['imgfeatures'])"
   ]
  },
  {
   "cell_type": "markdown",
   "metadata": {},
   "source": [
    "### Questions 1, 3"
   ]
  },
  {
   "cell_type": "code",
   "execution_count": 155,
   "metadata": {},
   "outputs": [],
   "source": [
    "tags_all = pd.DataFrame(tags_all)\n",
    "inst_2 = pd.DataFrame(list(zip(labels_all, tags_all, \\\n",
    "        imgfeatures_all)), columns=['label','tags', 'imgfeatures'])"
   ]
  },
  {
   "cell_type": "code",
   "execution_count": 156,
   "metadata": {},
   "outputs": [],
   "source": [
    "inst_2_imgfeatures = pd.DataFrame(imgfeatures_all)\n",
    "inst_2_tags_all = pd.DataFrame(tags_all)"
   ]
  },
  {
   "cell_type": "code",
   "execution_count": 157,
   "metadata": {},
   "outputs": [],
   "source": [
    "labels_all = np.array(labels_all)"
   ]
  },
  {
   "cell_type": "code",
   "execution_count": 158,
   "metadata": {},
   "outputs": [],
   "source": [
    "scoring = ['accuracy', 'precision_macro', 'recall_macro']"
   ]
  },
  {
   "cell_type": "markdown",
   "metadata": {},
   "source": [
    "#### Classification using tags"
   ]
  },
  {
   "cell_type": "code",
   "execution_count": 159,
   "metadata": {},
   "outputs": [],
   "source": [
    "tags_all = np.array(inst_2_tags_all)"
   ]
  },
  {
   "cell_type": "code",
   "execution_count": 160,
   "metadata": {},
   "outputs": [
    {
     "data": {
      "text/plain": [
       "RandomForestClassifier(bootstrap=True, class_weight=None, criterion='gini',\n",
       "            max_depth=2, max_features='auto', max_leaf_nodes=None,\n",
       "            min_impurity_decrease=0.0, min_impurity_split=None,\n",
       "            min_samples_leaf=1, min_samples_split=2,\n",
       "            min_weight_fraction_leaf=0.0, n_estimators=100, n_jobs=None,\n",
       "            oob_score=False, random_state=0, verbose=0, warm_start=False)"
      ]
     },
     "execution_count": 160,
     "metadata": {},
     "output_type": "execute_result"
    }
   ],
   "source": [
    "X = tags_all\n",
    "y = labels_all\n",
    "clf = RandomForestClassifier(n_estimators=100, max_depth=2, random_state=0)\n",
    "clf.fit(X, y)  "
   ]
  },
  {
   "cell_type": "code",
   "execution_count": 114,
   "metadata": {},
   "outputs": [],
   "source": [
    "clf_predictions = clf.predict(X)"
   ]
  },
  {
   "cell_type": "code",
   "execution_count": 115,
   "metadata": {},
   "outputs": [
    {
     "data": {
      "text/plain": [
       "0.6783333333333333"
      ]
     },
     "execution_count": 115,
     "metadata": {},
     "output_type": "execute_result"
    }
   ],
   "source": [
    "accuracy_score(y, clf_predictions)"
   ]
  },
  {
   "cell_type": "code",
   "execution_count": 116,
   "metadata": {},
   "outputs": [
    {
     "data": {
      "text/plain": [
       "0.8299259781459287"
      ]
     },
     "execution_count": 116,
     "metadata": {},
     "output_type": "execute_result"
    }
   ],
   "source": [
    "precision_score(y, clf_predictions, average='macro')"
   ]
  },
  {
   "cell_type": "code",
   "execution_count": 117,
   "metadata": {},
   "outputs": [
    {
     "data": {
      "text/plain": [
       "0.5722517730496454"
      ]
     },
     "execution_count": 117,
     "metadata": {},
     "output_type": "execute_result"
    }
   ],
   "source": [
    "recall_score(y, clf_predictions, average='macro')"
   ]
  },
  {
   "cell_type": "markdown",
   "metadata": {},
   "source": [
    "##### 10-fold Cross-validation"
   ]
  },
  {
   "cell_type": "code",
   "execution_count": 137,
   "metadata": {},
   "outputs": [],
   "source": [
    "scores = cross_validate(clf, X, y, scoring=scoring, cv=10, return_train_score=True)"
   ]
  },
  {
   "cell_type": "code",
   "execution_count": 138,
   "metadata": {},
   "outputs": [
    {
     "data": {
      "text/plain": [
       "0.6775925886043789"
      ]
     },
     "execution_count": 138,
     "metadata": {},
     "output_type": "execute_result"
    }
   ],
   "source": [
    "scores['train_accuracy'].mean()"
   ]
  },
  {
   "cell_type": "code",
   "execution_count": 139,
   "metadata": {},
   "outputs": [
    {
     "data": {
      "text/plain": [
       "0.8296679471776522"
      ]
     },
     "execution_count": 139,
     "metadata": {},
     "output_type": "execute_result"
    }
   ],
   "source": [
    "scores['train_precision_macro'].mean()"
   ]
  },
  {
   "cell_type": "code",
   "execution_count": 140,
   "metadata": {},
   "outputs": [
    {
     "data": {
      "text/plain": [
       "0.5712667759202514"
      ]
     },
     "execution_count": 140,
     "metadata": {},
     "output_type": "execute_result"
    }
   ],
   "source": [
    "scores['train_recall_macro'].mean()"
   ]
  },
  {
   "cell_type": "code",
   "execution_count": 141,
   "metadata": {},
   "outputs": [
    {
     "data": {
      "text/plain": [
       "0.6776663592558436"
      ]
     },
     "execution_count": 141,
     "metadata": {},
     "output_type": "execute_result"
    }
   ],
   "source": [
    "scores['test_accuracy'].mean()"
   ]
  },
  {
   "cell_type": "code",
   "execution_count": 142,
   "metadata": {},
   "outputs": [
    {
     "data": {
      "text/plain": [
       "0.8297135249271728"
      ]
     },
     "execution_count": 142,
     "metadata": {},
     "output_type": "execute_result"
    }
   ],
   "source": [
    "scores['test_precision_macro'].mean()"
   ]
  },
  {
   "cell_type": "code",
   "execution_count": 143,
   "metadata": {},
   "outputs": [
    {
     "data": {
      "text/plain": [
       "0.5713693109987359"
      ]
     },
     "execution_count": 143,
     "metadata": {},
     "output_type": "execute_result"
    }
   ],
   "source": [
    "scores['test_recall_macro'].mean()"
   ]
  },
  {
   "cell_type": "markdown",
   "metadata": {},
   "source": [
    "| *Accuracy* | *Precision* | *Recall*  |\n",
    "|:--------:|:---------:|:-------:|\n",
    "| 0.67767  | 0.82971   | 0.57137 |"
   ]
  },
  {
   "cell_type": "markdown",
   "metadata": {},
   "source": [
    "#### Classification using image features"
   ]
  },
  {
   "cell_type": "code",
   "execution_count": 161,
   "metadata": {},
   "outputs": [],
   "source": [
    "imgfeatures_all = np.array(inst_2_imgfeatures)"
   ]
  },
  {
   "cell_type": "code",
   "execution_count": 162,
   "metadata": {},
   "outputs": [
    {
     "data": {
      "text/plain": [
       "RandomForestClassifier(bootstrap=True, class_weight=None, criterion='gini',\n",
       "            max_depth=2, max_features='auto', max_leaf_nodes=None,\n",
       "            min_impurity_decrease=0.0, min_impurity_split=None,\n",
       "            min_samples_leaf=1, min_samples_split=2,\n",
       "            min_weight_fraction_leaf=0.0, n_estimators=100, n_jobs=None,\n",
       "            oob_score=False, random_state=0, verbose=0, warm_start=False)"
      ]
     },
     "execution_count": 162,
     "metadata": {},
     "output_type": "execute_result"
    }
   ],
   "source": [
    "X = imgfeatures_all\n",
    "y = labels_all\n",
    "clf_IF = RandomForestClassifier(n_estimators=100, max_depth=2, random_state=0)\n",
    "clf_IF.fit(X, y)  \n"
   ]
  },
  {
   "cell_type": "code",
   "execution_count": 163,
   "metadata": {},
   "outputs": [
    {
     "name": "stdout",
     "output_type": "stream",
     "text": [
      "0.687\n"
     ]
    }
   ],
   "source": [
    "print(clf_IF.score(X, y))"
   ]
  },
  {
   "cell_type": "code",
   "execution_count": 164,
   "metadata": {},
   "outputs": [],
   "source": [
    "clf_IF_predictions = clf_IF.predict(X)"
   ]
  },
  {
   "cell_type": "code",
   "execution_count": 165,
   "metadata": {},
   "outputs": [
    {
     "data": {
      "text/plain": [
       "0.687"
      ]
     },
     "execution_count": 165,
     "metadata": {},
     "output_type": "execute_result"
    }
   ],
   "source": [
    "accuracy_score(y, clf_IF_predictions)"
   ]
  },
  {
   "cell_type": "code",
   "execution_count": 166,
   "metadata": {},
   "outputs": [
    {
     "data": {
      "text/plain": [
       "0.8304188668062082"
      ]
     },
     "execution_count": 166,
     "metadata": {},
     "output_type": "execute_result"
    }
   ],
   "source": [
    "precision_score(y, clf_IF_predictions, average='macro')"
   ]
  },
  {
   "cell_type": "code",
   "execution_count": 167,
   "metadata": {},
   "outputs": [
    {
     "data": {
      "text/plain": [
       "0.5839527641389344"
      ]
     },
     "execution_count": 167,
     "metadata": {},
     "output_type": "execute_result"
    }
   ],
   "source": [
    "recall_score(y, clf_IF_predictions, average='macro')"
   ]
  },
  {
   "cell_type": "markdown",
   "metadata": {},
   "source": [
    "##### 10-fold Cross-validation"
   ]
  },
  {
   "cell_type": "code",
   "execution_count": 168,
   "metadata": {},
   "outputs": [],
   "source": [
    "scores = cross_validate(clf, X, y, scoring=scoring, cv=10, return_train_score=True)"
   ]
  },
  {
   "cell_type": "code",
   "execution_count": 172,
   "metadata": {},
   "outputs": [
    {
     "data": {
      "text/plain": [
       "0.6769941332681475"
      ]
     },
     "execution_count": 172,
     "metadata": {},
     "output_type": "execute_result"
    }
   ],
   "source": [
    "scores['test_accuracy'].mean()"
   ]
  },
  {
   "cell_type": "code",
   "execution_count": 173,
   "metadata": {},
   "outputs": [
    {
     "data": {
      "text/plain": [
       "0.8267956044460428"
      ]
     },
     "execution_count": 173,
     "metadata": {},
     "output_type": "execute_result"
    }
   ],
   "source": [
    "scores['test_precision_macro'].mean()"
   ]
  },
  {
   "cell_type": "code",
   "execution_count": 174,
   "metadata": {},
   "outputs": [
    {
     "data": {
      "text/plain": [
       "0.570647601357518"
      ]
     },
     "execution_count": 174,
     "metadata": {},
     "output_type": "execute_result"
    }
   ],
   "source": [
    "scores['test_recall_macro'].mean()"
   ]
  },
  {
   "cell_type": "markdown",
   "metadata": {},
   "source": [
    "| *Accuracy* | *Precision* | *Recall*  |\n",
    "|:--------:|:---------:|:-------:|\n",
    "| 0.67699  | 0.82679   | 0.57064 |"
   ]
  },
  {
   "cell_type": "markdown",
   "metadata": {},
   "source": [
    "### Question 2"
   ]
  },
  {
   "cell_type": "markdown",
   "metadata": {},
   "source": [
    "#### Most prominent Hashtags"
   ]
  },
  {
   "cell_type": "code",
   "execution_count": 97,
   "metadata": {},
   "outputs": [],
   "source": [
    "inst_2_tags = pd.DataFrame()\n",
    "inst_2_tags = inst_2_tags_all\n",
    "inst_2_tags['labels'] = labels_all"
   ]
  },
  {
   "cell_type": "code",
   "execution_count": 98,
   "metadata": {},
   "outputs": [],
   "source": [
    "# Separating alcohol/non-alcohol objects\n",
    "inst_2_alco = (inst_2_tags[inst_2_tags['labels'] == 'alcohol'])\n",
    "inst_2_non = (inst_2_tags[inst_2_tags['labels'] == 'nonalcohol'])"
   ]
  },
  {
   "cell_type": "markdown",
   "metadata": {},
   "source": [
    "Alcohol"
   ]
  },
  {
   "cell_type": "code",
   "execution_count": 99,
   "metadata": {},
   "outputs": [
    {
     "data": {
      "text/html": [
       "<div>\n",
       "<style scoped>\n",
       "    .dataframe tbody tr th:only-of-type {\n",
       "        vertical-align: middle;\n",
       "    }\n",
       "\n",
       "    .dataframe tbody tr th {\n",
       "        vertical-align: top;\n",
       "    }\n",
       "\n",
       "    .dataframe thead th {\n",
       "        text-align: right;\n",
       "    }\n",
       "</style>\n",
       "<table border=\"1\" class=\"dataframe\">\n",
       "  <thead>\n",
       "    <tr style=\"text-align: right;\">\n",
       "      <th></th>\n",
       "      <th>posts</th>\n",
       "    </tr>\n",
       "  </thead>\n",
       "  <tbody>\n",
       "    <tr>\n",
       "      <th>switzerland</th>\n",
       "      <td>481</td>\n",
       "    </tr>\n",
       "    <tr>\n",
       "      <th>beer</th>\n",
       "      <td>336</td>\n",
       "    </tr>\n",
       "    <tr>\n",
       "      <th>wine</th>\n",
       "      <td>326</td>\n",
       "    </tr>\n",
       "    <tr>\n",
       "      <th>zurich</th>\n",
       "      <td>251</td>\n",
       "    </tr>\n",
       "    <tr>\n",
       "      <th>friends</th>\n",
       "      <td>247</td>\n",
       "    </tr>\n",
       "    <tr>\n",
       "      <th>champagne</th>\n",
       "      <td>150</td>\n",
       "    </tr>\n",
       "    <tr>\n",
       "      <th>swiss</th>\n",
       "      <td>147</td>\n",
       "    </tr>\n",
       "    <tr>\n",
       "      <th>love</th>\n",
       "      <td>145</td>\n",
       "    </tr>\n",
       "    <tr>\n",
       "      <th>party</th>\n",
       "      <td>130</td>\n",
       "    </tr>\n",
       "    <tr>\n",
       "      <th>geneva</th>\n",
       "      <td>121</td>\n",
       "    </tr>\n",
       "    <tr>\n",
       "      <th>fun</th>\n",
       "      <td>113</td>\n",
       "    </tr>\n",
       "    <tr>\n",
       "      <th>food</th>\n",
       "      <td>100</td>\n",
       "    </tr>\n",
       "    <tr>\n",
       "      <th>dinner</th>\n",
       "      <td>98</td>\n",
       "    </tr>\n",
       "    <tr>\n",
       "      <th>bar</th>\n",
       "      <td>94</td>\n",
       "    </tr>\n",
       "    <tr>\n",
       "      <th>happy</th>\n",
       "      <td>86</td>\n",
       "    </tr>\n",
       "    <tr>\n",
       "      <th>drink</th>\n",
       "      <td>85</td>\n",
       "    </tr>\n",
       "    <tr>\n",
       "      <th>night</th>\n",
       "      <td>80</td>\n",
       "    </tr>\n",
       "    <tr>\n",
       "      <th>cocktail</th>\n",
       "      <td>79</td>\n",
       "    </tr>\n",
       "    <tr>\n",
       "      <th>summer</th>\n",
       "      <td>76</td>\n",
       "    </tr>\n",
       "    <tr>\n",
       "      <th>drinks</th>\n",
       "      <td>74</td>\n",
       "    </tr>\n",
       "    <tr>\n",
       "      <th>zürich</th>\n",
       "      <td>72</td>\n",
       "    </tr>\n",
       "    <tr>\n",
       "      <th>cocktails</th>\n",
       "      <td>68</td>\n",
       "    </tr>\n",
       "    <tr>\n",
       "      <th>lausanne</th>\n",
       "      <td>62</td>\n",
       "    </tr>\n",
       "    <tr>\n",
       "      <th>instagood</th>\n",
       "      <td>62</td>\n",
       "    </tr>\n",
       "    <tr>\n",
       "      <th>hotel</th>\n",
       "      <td>62</td>\n",
       "    </tr>\n",
       "    <tr>\n",
       "      <th>suisse</th>\n",
       "      <td>61</td>\n",
       "    </tr>\n",
       "    <tr>\n",
       "      <th>travel</th>\n",
       "      <td>60</td>\n",
       "    </tr>\n",
       "    <tr>\n",
       "      <th>basel</th>\n",
       "      <td>60</td>\n",
       "    </tr>\n",
       "    <tr>\n",
       "      <th>schweiz</th>\n",
       "      <td>58</td>\n",
       "    </tr>\n",
       "    <tr>\n",
       "      <th>lifestyle</th>\n",
       "      <td>54</td>\n",
       "    </tr>\n",
       "  </tbody>\n",
       "</table>\n",
       "</div>"
      ],
      "text/plain": [
       "            posts\n",
       "switzerland   481\n",
       "beer          336\n",
       "wine          326\n",
       "zurich        251\n",
       "friends       247\n",
       "champagne     150\n",
       "swiss         147\n",
       "love          145\n",
       "party         130\n",
       "geneva        121\n",
       "fun           113\n",
       "food          100\n",
       "dinner         98\n",
       "bar            94\n",
       "happy          86\n",
       "drink          85\n",
       "night          80\n",
       "cocktail       79\n",
       "summer         76\n",
       "drinks         74\n",
       "zürich         72\n",
       "cocktails      68\n",
       "lausanne       62\n",
       "instagood      62\n",
       "hotel          62\n",
       "suisse         61\n",
       "travel         60\n",
       "basel          60\n",
       "schweiz        58\n",
       "lifestyle      54"
      ]
     },
     "execution_count": 99,
     "metadata": {},
     "output_type": "execute_result"
    }
   ],
   "source": [
    "alco_top_30_tags = (pd.DataFrame(inst_2_alco.sum(), columns=['posts'])[:-1]).sort_values(by=['posts'], ascending=False)[:30]\n",
    "alco_top_30_tags"
   ]
  },
  {
   "cell_type": "code",
   "execution_count": 100,
   "metadata": {},
   "outputs": [
    {
     "data": {
      "text/plain": [
       "<matplotlib.axes._subplots.AxesSubplot at 0x193cf8c6550>"
      ]
     },
     "execution_count": 100,
     "metadata": {},
     "output_type": "execute_result"
    },
    {
     "data": {
      "image/png": "[encoded data removed]",
      "text/plain": [
       "<Figure size 864x432 with 1 Axes>"
      ]
     },
     "metadata": {
      "needs_background": "light"
     },
     "output_type": "display_data"
    }
   ],
   "source": [
    "alco_top_30_tags.plot(kind='bar', figsize=(12,6))"
   ]
  },
  {
   "cell_type": "markdown",
   "metadata": {},
   "source": [
    "Non-Alcohol"
   ]
  },
  {
   "cell_type": "code",
   "execution_count": 101,
   "metadata": {},
   "outputs": [
    {
     "data": {
      "text/html": [
       "<div>\n",
       "<style scoped>\n",
       "    .dataframe tbody tr th:only-of-type {\n",
       "        vertical-align: middle;\n",
       "    }\n",
       "\n",
       "    .dataframe tbody tr th {\n",
       "        vertical-align: top;\n",
       "    }\n",
       "\n",
       "    .dataframe thead th {\n",
       "        text-align: right;\n",
       "    }\n",
       "</style>\n",
       "<table border=\"1\" class=\"dataframe\">\n",
       "  <thead>\n",
       "    <tr style=\"text-align: right;\">\n",
       "      <th></th>\n",
       "      <th>posts</th>\n",
       "    </tr>\n",
       "  </thead>\n",
       "  <tbody>\n",
       "    <tr>\n",
       "      <th>cafe</th>\n",
       "      <td>325</td>\n",
       "    </tr>\n",
       "    <tr>\n",
       "      <th>coffee</th>\n",
       "      <td>308</td>\n",
       "    </tr>\n",
       "    <tr>\n",
       "      <th>switzerland</th>\n",
       "      <td>288</td>\n",
       "    </tr>\n",
       "    <tr>\n",
       "      <th>zurich</th>\n",
       "      <td>189</td>\n",
       "    </tr>\n",
       "    <tr>\n",
       "      <th>restaurant</th>\n",
       "      <td>176</td>\n",
       "    </tr>\n",
       "    <tr>\n",
       "      <th>winter</th>\n",
       "      <td>159</td>\n",
       "    </tr>\n",
       "    <tr>\n",
       "      <th>dubai</th>\n",
       "      <td>142</td>\n",
       "    </tr>\n",
       "    <tr>\n",
       "      <th>shisha</th>\n",
       "      <td>140</td>\n",
       "    </tr>\n",
       "    <tr>\n",
       "      <th>kuwait</th>\n",
       "      <td>139</td>\n",
       "    </tr>\n",
       "    <tr>\n",
       "      <th>mydubai</th>\n",
       "      <td>139</td>\n",
       "    </tr>\n",
       "    <tr>\n",
       "      <th>abudhabi</th>\n",
       "      <td>139</td>\n",
       "    </tr>\n",
       "    <tr>\n",
       "      <th>dubailadiesclub</th>\n",
       "      <td>138</td>\n",
       "    </tr>\n",
       "    <tr>\n",
       "      <th>qatat</th>\n",
       "      <td>138</td>\n",
       "    </tr>\n",
       "    <tr>\n",
       "      <th>fuj</th>\n",
       "      <td>138</td>\n",
       "    </tr>\n",
       "    <tr>\n",
       "      <th>bahrin</th>\n",
       "      <td>138</td>\n",
       "    </tr>\n",
       "    <tr>\n",
       "      <th>dxb</th>\n",
       "      <td>138</td>\n",
       "    </tr>\n",
       "    <tr>\n",
       "      <th>bahar5</th>\n",
       "      <td>138</td>\n",
       "    </tr>\n",
       "    <tr>\n",
       "      <th>dubaistreetstyle</th>\n",
       "      <td>138</td>\n",
       "    </tr>\n",
       "    <tr>\n",
       "      <th>dubaimarina</th>\n",
       "      <td>138</td>\n",
       "    </tr>\n",
       "    <tr>\n",
       "      <th>beachmall</th>\n",
       "      <td>138</td>\n",
       "    </tr>\n",
       "    <tr>\n",
       "      <th>jum</th>\n",
       "      <td>138</td>\n",
       "    </tr>\n",
       "    <tr>\n",
       "      <th>alain</th>\n",
       "      <td>138</td>\n",
       "    </tr>\n",
       "    <tr>\n",
       "      <th>ae</th>\n",
       "      <td>138</td>\n",
       "    </tr>\n",
       "    <tr>\n",
       "      <th>ksa</th>\n",
       "      <td>138</td>\n",
       "    </tr>\n",
       "    <tr>\n",
       "      <th>jaddah</th>\n",
       "      <td>138</td>\n",
       "    </tr>\n",
       "    <tr>\n",
       "      <th>jumeirah</th>\n",
       "      <td>138</td>\n",
       "    </tr>\n",
       "    <tr>\n",
       "      <th>jbr</th>\n",
       "      <td>138</td>\n",
       "    </tr>\n",
       "    <tr>\n",
       "      <th>sharjah</th>\n",
       "      <td>138</td>\n",
       "    </tr>\n",
       "    <tr>\n",
       "      <th>tea</th>\n",
       "      <td>107</td>\n",
       "    </tr>\n",
       "    <tr>\n",
       "      <th>swiss</th>\n",
       "      <td>96</td>\n",
       "    </tr>\n",
       "  </tbody>\n",
       "</table>\n",
       "</div>"
      ],
      "text/plain": [
       "                 posts\n",
       "cafe               325\n",
       "coffee             308\n",
       "switzerland        288\n",
       "zurich             189\n",
       "restaurant         176\n",
       "winter             159\n",
       "dubai              142\n",
       "shisha             140\n",
       "kuwait             139\n",
       "mydubai            139\n",
       "abudhabi           139\n",
       "dubailadiesclub    138\n",
       "qatat              138\n",
       "fuj                138\n",
       "bahrin             138\n",
       "dxb                138\n",
       "bahar5             138\n",
       "dubaistreetstyle   138\n",
       "dubaimarina        138\n",
       "beachmall          138\n",
       "jum                138\n",
       "alain              138\n",
       "ae                 138\n",
       "ksa                138\n",
       "jaddah             138\n",
       "jumeirah           138\n",
       "jbr                138\n",
       "sharjah            138\n",
       "tea                107\n",
       "swiss               96"
      ]
     },
     "execution_count": 101,
     "metadata": {},
     "output_type": "execute_result"
    }
   ],
   "source": [
    "nonalco_top_30_tags = (pd.DataFrame(inst_2_non.sum(), columns=['posts'])[:-1]).sort_values(by=['posts'], ascending=False)[:30]\n",
    "nonalco_top_30_tags"
   ]
  },
  {
   "cell_type": "code",
   "execution_count": 102,
   "metadata": {
    "scrolled": false
   },
   "outputs": [
    {
     "data": {
      "text/plain": [
       "<matplotlib.axes._subplots.AxesSubplot at 0x193a5807860>"
      ]
     },
     "execution_count": 102,
     "metadata": {},
     "output_type": "execute_result"
    },
    {
     "data": {
      "image/png": "[encoded data removed]",
      "text/plain": [
       "<Figure size 864x432 with 1 Axes>"
      ]
     },
     "metadata": {
      "needs_background": "light"
     },
     "output_type": "display_data"
    }
   ],
   "source": [
    "nonalco_top_30_tags.plot(kind='bar', figsize=(12,6))"
   ]
  },
  {
   "cell_type": "markdown",
   "metadata": {},
   "source": [
    "#### Most prominent Image features"
   ]
  },
  {
   "cell_type": "code",
   "execution_count": 103,
   "metadata": {},
   "outputs": [],
   "source": [
    "inst_2_if = pd.DataFrame()\n",
    "inst_2_if = inst_2_imgfeatures\n",
    "inst_2_if['labels'] = labels_all"
   ]
  },
  {
   "cell_type": "code",
   "execution_count": 104,
   "metadata": {},
   "outputs": [],
   "source": [
    "inst_2_alco_if = (inst_2_if[inst_2_if['labels'] == 'alcohol'])\n",
    "inst_2_non_if = (inst_2_if[inst_2_if['labels'] == 'nonalcohol'])"
   ]
  },
  {
   "cell_type": "markdown",
   "metadata": {},
   "source": [
    "Alcohol"
   ]
  },
  {
   "cell_type": "code",
   "execution_count": 105,
   "metadata": {},
   "outputs": [
    {
     "data": {
      "text/html": [
       "<div>\n",
       "<style scoped>\n",
       "    .dataframe tbody tr th:only-of-type {\n",
       "        vertical-align: middle;\n",
       "    }\n",
       "\n",
       "    .dataframe tbody tr th {\n",
       "        vertical-align: top;\n",
       "    }\n",
       "\n",
       "    .dataframe thead th {\n",
       "        text-align: right;\n",
       "    }\n",
       "</style>\n",
       "<table border=\"1\" class=\"dataframe\">\n",
       "  <thead>\n",
       "    <tr style=\"text-align: right;\">\n",
       "      <th></th>\n",
       "      <th>posts</th>\n",
       "    </tr>\n",
       "  </thead>\n",
       "  <tbody>\n",
       "    <tr>\n",
       "      <th>beer glass</th>\n",
       "      <td>131.609</td>\n",
       "    </tr>\n",
       "    <tr>\n",
       "      <th>red wine</th>\n",
       "      <td>81.062</td>\n",
       "    </tr>\n",
       "    <tr>\n",
       "      <th>restaurant, eating house, eating place, eatery</th>\n",
       "      <td>58.8177</td>\n",
       "    </tr>\n",
       "    <tr>\n",
       "      <th>plate</th>\n",
       "      <td>55.6238</td>\n",
       "    </tr>\n",
       "    <tr>\n",
       "      <th>wine bottle</th>\n",
       "      <td>55.28</td>\n",
       "    </tr>\n",
       "    <tr>\n",
       "      <th>beer bottle</th>\n",
       "      <td>49.4496</td>\n",
       "    </tr>\n",
       "    <tr>\n",
       "      <th>goblet</th>\n",
       "      <td>42.5356</td>\n",
       "    </tr>\n",
       "    <tr>\n",
       "      <th>candle, taper, wax light</th>\n",
       "      <td>37.8404</td>\n",
       "    </tr>\n",
       "    <tr>\n",
       "      <th>eggnog</th>\n",
       "      <td>29.4596</td>\n",
       "    </tr>\n",
       "    <tr>\n",
       "      <th>stage</th>\n",
       "      <td>18.9761</td>\n",
       "    </tr>\n",
       "    <tr>\n",
       "      <th>cocktail shaker</th>\n",
       "      <td>17.4611</td>\n",
       "    </tr>\n",
       "    <tr>\n",
       "      <th>dining table, board</th>\n",
       "      <td>15.8414</td>\n",
       "    </tr>\n",
       "    <tr>\n",
       "      <th>tray</th>\n",
       "      <td>15.4261</td>\n",
       "    </tr>\n",
       "    <tr>\n",
       "      <th>menu</th>\n",
       "      <td>14.9885</td>\n",
       "    </tr>\n",
       "    <tr>\n",
       "      <th>wig</th>\n",
       "      <td>14.8567</td>\n",
       "    </tr>\n",
       "    <tr>\n",
       "      <th>sunglasses, dark glasses, shades</th>\n",
       "      <td>13.3761</td>\n",
       "    </tr>\n",
       "    <tr>\n",
       "      <th>beaker</th>\n",
       "      <td>13.3592</td>\n",
       "    </tr>\n",
       "    <tr>\n",
       "      <th>ice cream, icecream</th>\n",
       "      <td>12.7676</td>\n",
       "    </tr>\n",
       "    <tr>\n",
       "      <th>lakeside, lakeshore</th>\n",
       "      <td>12.5736</td>\n",
       "    </tr>\n",
       "    <tr>\n",
       "      <th>perfume, essence</th>\n",
       "      <td>12.3103</td>\n",
       "    </tr>\n",
       "    <tr>\n",
       "      <th>book jacket, dust cover, dust jacket, dust wrapper</th>\n",
       "      <td>12.051</td>\n",
       "    </tr>\n",
       "    <tr>\n",
       "      <th>bow tie, bow_tie, bowtie</th>\n",
       "      <td>10.9867</td>\n",
       "    </tr>\n",
       "    <tr>\n",
       "      <th>pop bottle, soda bottle</th>\n",
       "      <td>10.8385</td>\n",
       "    </tr>\n",
       "    <tr>\n",
       "      <th>spotlight, spot</th>\n",
       "      <td>10.5314</td>\n",
       "    </tr>\n",
       "    <tr>\n",
       "      <th>hair spray</th>\n",
       "      <td>10.0754</td>\n",
       "    </tr>\n",
       "    <tr>\n",
       "      <th>consomme</th>\n",
       "      <td>9.54836</td>\n",
       "    </tr>\n",
       "    <tr>\n",
       "      <th>chocolate sauce, chocolate syrup</th>\n",
       "      <td>9.16555</td>\n",
       "    </tr>\n",
       "    <tr>\n",
       "      <th>cup</th>\n",
       "      <td>9.11186</td>\n",
       "    </tr>\n",
       "    <tr>\n",
       "      <th>bakery, bakeshop, bakehouse</th>\n",
       "      <td>9.05229</td>\n",
       "    </tr>\n",
       "    <tr>\n",
       "      <th>espresso</th>\n",
       "      <td>8.79647</td>\n",
       "    </tr>\n",
       "  </tbody>\n",
       "</table>\n",
       "</div>"
      ],
      "text/plain": [
       "                                                      posts\n",
       "beer glass                                          131.609\n",
       "red wine                                             81.062\n",
       "restaurant, eating house, eating place, eatery      58.8177\n",
       "plate                                               55.6238\n",
       "wine bottle                                           55.28\n",
       "beer bottle                                         49.4496\n",
       "goblet                                              42.5356\n",
       "candle, taper, wax light                            37.8404\n",
       "eggnog                                              29.4596\n",
       "stage                                               18.9761\n",
       "cocktail shaker                                     17.4611\n",
       "dining table, board                                 15.8414\n",
       "tray                                                15.4261\n",
       "menu                                                14.9885\n",
       "wig                                                 14.8567\n",
       "sunglasses, dark glasses, shades                    13.3761\n",
       "beaker                                              13.3592\n",
       "ice cream, icecream                                 12.7676\n",
       "lakeside, lakeshore                                 12.5736\n",
       "perfume, essence                                    12.3103\n",
       "book jacket, dust cover, dust jacket, dust wrapper   12.051\n",
       "bow tie, bow_tie, bowtie                            10.9867\n",
       "pop bottle, soda bottle                             10.8385\n",
       "spotlight, spot                                     10.5314\n",
       "hair spray                                          10.0754\n",
       "consomme                                            9.54836\n",
       "chocolate sauce, chocolate syrup                    9.16555\n",
       "cup                                                 9.11186\n",
       "bakery, bakeshop, bakehouse                         9.05229\n",
       "espresso                                            8.79647"
      ]
     },
     "execution_count": 105,
     "metadata": {},
     "output_type": "execute_result"
    }
   ],
   "source": [
    "alco_top_30_if = (pd.DataFrame(inst_2_alco_if.sum(), columns=['posts'])[:-1]).sort_values(by=['posts'], ascending=False)[:30]\n",
    "alco_top_30_if"
   ]
  },
  {
   "cell_type": "code",
   "execution_count": 106,
   "metadata": {},
   "outputs": [
    {
     "data": {
      "text/plain": [
       "<matplotlib.axes._subplots.AxesSubplot at 0x193c3097160>"
      ]
     },
     "execution_count": 106,
     "metadata": {},
     "output_type": "execute_result"
    },
    {
     "data": {
      "image/png": "[encoded data removed]",
      "text/plain": [
       "<Figure size 864x432 with 1 Axes>"
      ]
     },
     "metadata": {
      "needs_background": "light"
     },
     "output_type": "display_data"
    }
   ],
   "source": [
    "alco_top_30_if.plot(kind='bar', figsize=(12,6), color='yellow')"
   ]
  },
  {
   "cell_type": "markdown",
   "metadata": {},
   "source": [
    "Non-Alcohol"
   ]
  },
  {
   "cell_type": "code",
   "execution_count": 107,
   "metadata": {},
   "outputs": [
    {
     "data": {
      "text/html": [
       "<div>\n",
       "<style scoped>\n",
       "    .dataframe tbody tr th:only-of-type {\n",
       "        vertical-align: middle;\n",
       "    }\n",
       "\n",
       "    .dataframe tbody tr th {\n",
       "        vertical-align: top;\n",
       "    }\n",
       "\n",
       "    .dataframe thead th {\n",
       "        text-align: right;\n",
       "    }\n",
       "</style>\n",
       "<table border=\"1\" class=\"dataframe\">\n",
       "  <thead>\n",
       "    <tr style=\"text-align: right;\">\n",
       "      <th></th>\n",
       "      <th>posts</th>\n",
       "    </tr>\n",
       "  </thead>\n",
       "  <tbody>\n",
       "    <tr>\n",
       "      <th>espresso</th>\n",
       "      <td>83.3057</td>\n",
       "    </tr>\n",
       "    <tr>\n",
       "      <th>restaurant, eating house, eating place, eatery</th>\n",
       "      <td>33.5206</td>\n",
       "    </tr>\n",
       "    <tr>\n",
       "      <th>cup</th>\n",
       "      <td>33.1346</td>\n",
       "    </tr>\n",
       "    <tr>\n",
       "      <th>plate</th>\n",
       "      <td>23.2398</td>\n",
       "    </tr>\n",
       "    <tr>\n",
       "      <th>pop bottle, soda bottle</th>\n",
       "      <td>23.1792</td>\n",
       "    </tr>\n",
       "    <tr>\n",
       "      <th>eggnog</th>\n",
       "      <td>23.1604</td>\n",
       "    </tr>\n",
       "    <tr>\n",
       "      <th>ice cream, icecream</th>\n",
       "      <td>21.6336</td>\n",
       "    </tr>\n",
       "    <tr>\n",
       "      <th>coffee mug</th>\n",
       "      <td>21.1432</td>\n",
       "    </tr>\n",
       "    <tr>\n",
       "      <th>sunglasses, dark glasses, shades</th>\n",
       "      <td>17.0618</td>\n",
       "    </tr>\n",
       "    <tr>\n",
       "      <th>bakery, bakeshop, bakehouse</th>\n",
       "      <td>15.5581</td>\n",
       "    </tr>\n",
       "    <tr>\n",
       "      <th>lakeside, lakeshore</th>\n",
       "      <td>14.8374</td>\n",
       "    </tr>\n",
       "    <tr>\n",
       "      <th>beer glass</th>\n",
       "      <td>13.8587</td>\n",
       "    </tr>\n",
       "    <tr>\n",
       "      <th>tray</th>\n",
       "      <td>13.2379</td>\n",
       "    </tr>\n",
       "    <tr>\n",
       "      <th>sunglass</th>\n",
       "      <td>11.6822</td>\n",
       "    </tr>\n",
       "    <tr>\n",
       "      <th>menu</th>\n",
       "      <td>10.3761</td>\n",
       "    </tr>\n",
       "    <tr>\n",
       "      <th>soup bowl</th>\n",
       "      <td>10.2127</td>\n",
       "    </tr>\n",
       "    <tr>\n",
       "      <th>palace</th>\n",
       "      <td>9.25959</td>\n",
       "    </tr>\n",
       "    <tr>\n",
       "      <th>consomme</th>\n",
       "      <td>8.54626</td>\n",
       "    </tr>\n",
       "    <tr>\n",
       "      <th>candle, taper, wax light</th>\n",
       "      <td>8.53436</td>\n",
       "    </tr>\n",
       "    <tr>\n",
       "      <th>chocolate sauce, chocolate syrup</th>\n",
       "      <td>8.37328</td>\n",
       "    </tr>\n",
       "    <tr>\n",
       "      <th>dining table, board</th>\n",
       "      <td>7.41415</td>\n",
       "    </tr>\n",
       "    <tr>\n",
       "      <th>patio, terrace</th>\n",
       "      <td>6.83834</td>\n",
       "    </tr>\n",
       "    <tr>\n",
       "      <th>teapot</th>\n",
       "      <td>6.50333</td>\n",
       "    </tr>\n",
       "    <tr>\n",
       "      <th>beer bottle</th>\n",
       "      <td>6.48154</td>\n",
       "    </tr>\n",
       "    <tr>\n",
       "      <th>vase</th>\n",
       "      <td>6.28133</td>\n",
       "    </tr>\n",
       "    <tr>\n",
       "      <th>book jacket, dust cover, dust jacket, dust wrapper</th>\n",
       "      <td>5.81915</td>\n",
       "    </tr>\n",
       "    <tr>\n",
       "      <th>espresso maker</th>\n",
       "      <td>5.797</td>\n",
       "    </tr>\n",
       "    <tr>\n",
       "      <th>water bottle</th>\n",
       "      <td>5.77572</td>\n",
       "    </tr>\n",
       "    <tr>\n",
       "      <th>packet</th>\n",
       "      <td>5.5536</td>\n",
       "    </tr>\n",
       "    <tr>\n",
       "      <th>trifle</th>\n",
       "      <td>5.4963</td>\n",
       "    </tr>\n",
       "  </tbody>\n",
       "</table>\n",
       "</div>"
      ],
      "text/plain": [
       "                                                      posts\n",
       "espresso                                            83.3057\n",
       "restaurant, eating house, eating place, eatery      33.5206\n",
       "cup                                                 33.1346\n",
       "plate                                               23.2398\n",
       "pop bottle, soda bottle                             23.1792\n",
       "eggnog                                              23.1604\n",
       "ice cream, icecream                                 21.6336\n",
       "coffee mug                                          21.1432\n",
       "sunglasses, dark glasses, shades                    17.0618\n",
       "bakery, bakeshop, bakehouse                         15.5581\n",
       "lakeside, lakeshore                                 14.8374\n",
       "beer glass                                          13.8587\n",
       "tray                                                13.2379\n",
       "sunglass                                            11.6822\n",
       "menu                                                10.3761\n",
       "soup bowl                                           10.2127\n",
       "palace                                              9.25959\n",
       "consomme                                            8.54626\n",
       "candle, taper, wax light                            8.53436\n",
       "chocolate sauce, chocolate syrup                    8.37328\n",
       "dining table, board                                 7.41415\n",
       "patio, terrace                                      6.83834\n",
       "teapot                                              6.50333\n",
       "beer bottle                                         6.48154\n",
       "vase                                                6.28133\n",
       "book jacket, dust cover, dust jacket, dust wrapper  5.81915\n",
       "espresso maker                                        5.797\n",
       "water bottle                                        5.77572\n",
       "packet                                               5.5536\n",
       "trifle                                               5.4963"
      ]
     },
     "execution_count": 107,
     "metadata": {},
     "output_type": "execute_result"
    }
   ],
   "source": [
    "nonalco_top_30_if = (pd.DataFrame(inst_2_non_if.sum(), columns=['posts'])[:-1]).sort_values(by=['posts'], ascending=False)[:30]\n",
    "nonalco_top_30_if"
   ]
  },
  {
   "cell_type": "code",
   "execution_count": 108,
   "metadata": {
    "scrolled": false
   },
   "outputs": [
    {
     "data": {
      "text/plain": [
       "<matplotlib.axes._subplots.AxesSubplot at 0x193a32aaa58>"
      ]
     },
     "execution_count": 108,
     "metadata": {},
     "output_type": "execute_result"
    },
    {
     "data": {
      "image/png": "[encoded data removed]",
      "text/plain": [
       "<Figure size 864x432 with 1 Axes>"
      ]
     },
     "metadata": {
      "needs_background": "light"
     },
     "output_type": "display_data"
    }
   ],
   "source": [
    "nonalco_top_30_if.plot(kind='bar', figsize=(12,6), color='yellow')"
   ]
  },
  {
   "cell_type": "markdown",
   "metadata": {},
   "source": [
    "#### Part 2 - discussion"
   ]
  },
  {
   "cell_type": "markdown",
   "metadata": {},
   "source": []
  }
 ],
 "metadata": {
  "kernelspec": {
   "display_name": "Python 3",
   "language": "python",
   "name": "python3"
  },
  "language_info": {
   "codemirror_mode": {
    "name": "ipython",
    "version": 3
   },
   "file_extension": ".py",
   "mimetype": "text/x-python",
   "name": "python",
   "nbconvert_exporter": "python",
   "pygments_lexer": "ipython3",
   "version": "3.7.3"
  }
 },
 "nbformat": 4,
 "nbformat_minor": 2
}
